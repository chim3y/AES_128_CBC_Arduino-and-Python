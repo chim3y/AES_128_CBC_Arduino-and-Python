{
 "cells": [
  {
   "cell_type": "code",
   "execution_count": 1,
   "metadata": {},
   "outputs": [],
   "source": [
    "#Reference:\n",
    "#https://www.novixys.com/blog/using-aes-encryption-decryption-python-pycrypto/#4_Encrypting_with_AES\n",
    "#https://stackoverflow.com/questions/36834580/iv-must-be-16-bytes-long-error-in-aes-encryption\n",
    "#https://pycryptodome.readthedocs.io/en/latest/src/util/util.html"
   ]
  },
  {
   "cell_type": "code",
   "execution_count": 2,
   "metadata": {},
   "outputs": [],
   "source": [
    "import socket \n",
    "import random\n",
    "from Crypto.Cipher import AES\n",
    "from base64 import b64encode\n",
    "from base64 import b64decode\n",
    "import os"
   ]
  },
  {
   "cell_type": "code",
   "execution_count": 3,
   "metadata": {},
   "outputs": [],
   "source": [
    "# bind all IP\n",
    "HOST = '172.20.10.3'\n",
    "# Listen on Port \n",
    "PORT = 44444\n",
    "#Size of receive buffer   \n",
    "BUFFER_SIZE = 1024    \n",
    "# Create a TCP/IP socket\n",
    "s = socket.socket(socket.AF_INET, socket.SOCK_DGRAM)\n",
    "# Bind the socket to the host and port\n",
    "s.bind(('0.0.0.0', PORT))"
   ]
  },
  {
   "cell_type": "code",
   "execution_count": 4,
   "metadata": {},
   "outputs": [],
   "source": [
    "from Crypto.Cipher import AES\n",
    "from base64 import b64encode, b64decode\n",
    "from Crypto.Util.Padding import pad, unpad\n",
    "\n",
    "BLOCK_SIZE = 16\n",
    "\n",
    "def encrypt(plaintext, key, IV):\n",
    "    cipher = AES.new(key, AES.MODE_CBC, IV)\n",
    "    cipher_bytes = cipher.encrypt(pad(b64encode(plaintext), BLOCK_SIZE))\n",
    "    return b64encode(cipher_bytes)\n",
    "\n",
    "def decrypt(ct, passkey, IV):\n",
    "    cipher = AES.new(passkey, AES.MODE_CBC, IV)\n",
    "    decrypted = cipher.decrypt(b64decode(ct))\n",
    "    return(unpad(decrypted, BLOCK_SIZE))\n"
   ]
  },
  {
   "cell_type": "code",
   "execution_count": 5,
   "metadata": {},
   "outputs": [],
   "source": [
    "# import base64\n",
    "# from Cryptodome.Cipher import AES\n",
    "# from Cryptodome.Random import get_random_bytes\n",
    "\n",
    "# key = hashlib.sha256(b'16-character key').digest()\n",
    "\n",
    "# def encrypt(raw):\n",
    "#     BS = AES.block_size\n",
    "#     pad = lambda s: s + (BS - len(s) % BS) * chr(BS - len(s) % BS)\n",
    "\n",
    "#     raw = base64.b64encode(pad(raw).encode('utf8'))\n",
    "#     iv = get_random_bytes(AES.block_size)\n",
    "#     cipher = AES.new(key, mode= AES.MODE_CFB,iv= iv)\n",
    "#     print(iv)\n",
    "#     return base64.b64encode(iv + cipher.encrypt(raw))\n",
    "\n",
    "# def decrypt(enc):\n",
    "#     unpad = lambda s: s[:-ord(s[-1:])]\n",
    "\n",
    "#     enc = base64.b64decode(enc)\n",
    "#     iv = enc[:AES.block_size]\n",
    "#     cipher = AES.new(key, AES.MODE_CFB, iv)\n",
    "#     return unpad(base64.b64decode(cipher.decrypt(enc[AES.block_size:])).decode('utf8'))"
   ]
  },
  {
   "cell_type": "code",
   "execution_count": 6,
   "metadata": {},
   "outputs": [],
   "source": [
    "#AES requires 16 byte key\n",
    "#In addition to the key, AES also needs an initialization vector. This initialization vector is generated with every encryption, and its purpose is to produce different encrypted data so that an attacker cannot use cryptanalysis to infer key data or message data.\n",
    "#A 16-byte initialization vector is required which is generated as follows.\n",
    "# def aes_encrypt(plaintext):\n",
    "#     #iv = os.urandom(16)\n",
    "#     print(iv)\n",
    "#     aes_mode = AES.MODE_CBC\n",
    "#     obj = AES.new(key, aes_mode, iv)\n",
    "#     ciphertext = obj.encrypt(plaintext)\n",
    "#     return ciphertext\n",
    "\n",
    "\n",
    "# def aes_encrypt(plaintext):\n",
    "#     #iv = os.urandom(16)\n",
    "#     #Encrypt and Base-64 encode\n",
    "#     aes_mode = AES.MODE_CBC\n",
    "#     cipher = AES.new(key, aes_mode, iv)\n",
    "#     return b64encode(iv + cipher.encrypt(plaintext))\n",
    "# #     return cipher.encrypt(plaintext)"
   ]
  },
  {
   "cell_type": "code",
   "execution_count": 7,
   "metadata": {},
   "outputs": [],
   "source": [
    "# print(s.sendto(\"Request for connection\".encode('utf-8'), (HOST, PORT)))\n",
    "# # #Send Authentication\n",
    "# data, addr = s.recvfrom(1024)\n",
    "# # for i in range(0, len(data), 2):\n",
    "# #     data += data[i:i+2] + \" \" \n",
    "# print(data)"
   ]
  },
  {
   "cell_type": "code",
   "execution_count": 8,
   "metadata": {
    "scrolled": true
   },
   "outputs": [
    {
     "name": "stdout",
     "output_type": "stream",
     "text": [
      "Python to Arduino: Request for connection\n",
      "Arduino to Python(iv):  b'\\r\\r\\r\\r\\r\\r\\r\\r\\r\\r\\r\\r\\r\\r\\r\\r\\xca'\n",
      "Python to Arduino (Cipher text):  b'r7WU30WP5hj/2JKGVrq9pZrffhLoadf/EiG2RYAWP9o='\n",
      "Arduino to python (Acknowledgement):  CONNECTED\n",
      "Python to Arduino: BLINK_LED_A AND BLINK_ON_LED_B\n",
      "Python to Arduino: BLINK_LED_A AND BLINK_ON_LED_B\n",
      "Python to Arduino: BLINK_LED_A AND BLINK_ON_LED_B\n"
     ]
    }
   ],
   "source": [
    "# while True:\n",
    "#Request for authentication\n",
    "s.sendto(\"Request for connection\".encode('utf-8'), (HOST, PORT))\n",
    "print(\"Python to Arduino: Request for connection\")\n",
    "# #Send Authentication\n",
    "data, addr = s.recvfrom(PORT)\n",
    "print(\"Arduino to Python(iv): \", data)\n",
    "\n",
    "#Send username in cleartext and password in encrypted text separated by comma\n",
    "username=bytes(\"Alice\", 'ascii')\n",
    "password=\"Happyme11!\"\n",
    "plaintext = bytes(password, 'ascii') # did I convert these bytes correctly from the sample code?\n",
    "passkey = bytes(\"1111111111111111\", 'ascii') #have I converted the passkey from the example code correctly?\n",
    "# iv = b64encode(os.urandom(16)).decode('utf-8')\n",
    "IV = data\n",
    "IV=IV[:len(IV)-1] # have I converted the IV from the example code correctly\n",
    "encrypted_bytes = encrypt(plaintext, passkey, IV)\n",
    "print(\"Python to Arduino (Cipher text): \", encrypted_bytes)\n",
    "# s.sendto(encrypted_bytes, (HOST, PORT))\n",
    "# print(type(encrypted_bytes))\n",
    "# s.sendto(bytes(username+\";\"+str(encrypted_bytes), \"ascii\"), (HOST, PORT))\n",
    "# s.sendto((username+\";\"+str(encrypted_bytes)).encode('utf-8'), (HOST, PORT))\n",
    "# print(type((username+\";\"+str(encrypted_bytes)).encode('utf-8')))\n",
    "s.sendto(username+b\";\"+encrypted_bytes, (HOST, PORT))\n",
    "message, addr = s.recvfrom(PORT)\n",
    "message, addr = s.recvfrom(PORT)\n",
    "print(\"Arduino to python (Acknowledgement): \", str(message.decode('utf-8')))\n",
    "\n",
    "for i in range(3):\n",
    "    s.sendto(\"BLINK_LED_A AND BLINK_ON_LED_B\".encode('utf-8'), (HOST, PORT))\n",
    "    print(\"Python to Arduino: BLINK_LED_A AND BLINK_ON_LED_B\")\n",
    "\n",
    "\n"
   ]
  },
  {
   "cell_type": "code",
   "execution_count": 9,
   "metadata": {},
   "outputs": [],
   "source": [
    "# data=data.decode('unicode_escape')\n",
    "# data=data.encode('utf-8')\n",
    "\n",
    "# data='0x'.join(a+b for a,b in zip(data[::2], data[1::2]))\n",
    "# data='0x'+data\n",
    "# print(data)\n",
    "\n",
    "# enc_iv=\"\"\n",
    "# for i in range(0, len(data1), 4):\n",
    "#     code= data1[i:i+4]\n",
    "#     hex_string = code[2:]\n",
    "#     bytes_object = bytes.fromhex(hex_string)\n",
    "# #     ascii_string = bytes_object.decode(\"ASCII\")\n",
    "# #     enc_iv+=ascii_string\n",
    "#     print (bytex_object)"
   ]
  },
  {
   "cell_type": "code",
   "execution_count": 10,
   "metadata": {},
   "outputs": [],
   "source": [
    "# hex_string = \"0x65\"[2:]\n",
    "# bytes_object = bytes.fromhex(hex_string)\n",
    "# ascii_string = bytes_object.decode(\"ASCII\")\n",
    "# print(ascii_string)"
   ]
  },
  {
   "cell_type": "code",
   "execution_count": 11,
   "metadata": {},
   "outputs": [],
   "source": [
    "# plaintext = bytes(\"chimipassword@12\", 'ascii') # did I convert these bytes correctly from the sample code?\n",
    "# passkey = bytes(\"1111111111111111\", 'ascii') #have I converted the passkey from the example code correctly?\n",
    "# # iv = b64encode(os.urandom(16)).decode('utf-8')\n",
    "# IV = data # have I converted the IV from the example code correctly?\n",
    "\n",
    "# encrypted_bytes = encrypt(plaintext, passkey, IV)\n",
    "\n",
    "# s.close()"
   ]
  },
  {
   "cell_type": "code",
   "execution_count": 12,
   "metadata": {},
   "outputs": [],
   "source": [
    "# print(encrypted_bytes)"
   ]
  },
  {
   "cell_type": "code",
   "execution_count": 13,
   "metadata": {},
   "outputs": [],
   "source": [
    "# Decryption\n",
    "# print(b64decode(decrypt(encrypted_bytes, passkey, IV)))\n",
    "# print(s.sendto(\"Request for connection\".encode('utf-8'), (HOST, PORT)))\n"
   ]
  },
  {
   "cell_type": "code",
   "execution_count": 14,
   "metadata": {},
   "outputs": [],
   "source": [
    "# while True: \n",
    "#     print(s.sendto(\"Request for connection\".encode('utf-8'), (HOST, PORT)))\n",
    "#     data, iv = s.recvfrom(1024)\n",
    "#     print(data, iv)\n",
    "#     s.close()\n",
    "#     False\n",
    "    "
   ]
  },
  {
   "cell_type": "code",
   "execution_count": 15,
   "metadata": {},
   "outputs": [],
   "source": [
    "# while True:\n",
    "#     s.sendto(encrypted_bytes, (HOST, PORT))"
   ]
  },
  {
   "cell_type": "code",
   "execution_count": 16,
   "metadata": {},
   "outputs": [
    {
     "ename": "SyntaxError",
     "evalue": "invalid syntax (<ipython-input-16-32b0e3b2fd82>, line 1)",
     "output_type": "error",
     "traceback": [
      "\u001b[1;36m  File \u001b[1;32m\"<ipython-input-16-32b0e3b2fd82>\"\u001b[1;36m, line \u001b[1;32m1\u001b[0m\n\u001b[1;33m    4s.close()\u001b[0m\n\u001b[1;37m     ^\u001b[0m\n\u001b[1;31mSyntaxError\u001b[0m\u001b[1;31m:\u001b[0m invalid syntax\n"
     ]
    }
   ],
   "source": [
    "4s.close()"
   ]
  }
 ],
 "metadata": {
  "kernelspec": {
   "display_name": "Python 3",
   "language": "python",
   "name": "python3"
  },
  "language_info": {
   "codemirror_mode": {
    "name": "ipython",
    "version": 3
   },
   "file_extension": ".py",
   "mimetype": "text/x-python",
   "name": "python",
   "nbconvert_exporter": "python",
   "pygments_lexer": "ipython3",
   "version": "3.7.6"
  }
 },
 "nbformat": 4,
 "nbformat_minor": 4
}
